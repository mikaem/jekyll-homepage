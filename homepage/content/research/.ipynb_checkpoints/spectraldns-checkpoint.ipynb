{
 "cells": [
  {
   "cell_type": "markdown",
   "metadata": {},
   "source": [
    "# SpectralDNS"
   ]
  },
  {
   "cell_type": "markdown",
   "metadata": {
    "tags": [
     "popout"
    ]
   },
   "source": [
    "<!-- img src=\"../images/KHmovie2.gif\" width=\"250\"  -->\n",
    "\n",
    "<img src=\"https://raw.githack.com/spectralDNS/spectralutilities/master/movies/RB_200k_Warp.gif\" width=\"300\" />\n",
    "\n",
    "**Rayleigh-Bénard** convection computed with spectral accuracy using a [spectralDNS solver](https://github.com/spectralDNS/spectralDNS/blob/master/demo/RayleighBenard.py)."
   ]
  },
  {
   "cell_type": "markdown",
   "metadata": {},
   "source": [
    "The [spectralDNS](https://github.com/spectralDNS) project revolves around\n",
    "implementing high-performance flow solvers in [Python](https://www.python.org), which is a modern and very\n",
    "high-level programming language. The project is supported through several grants from [King\n",
    "Abdullahs University of Science and Technology](https://www.hpc.kaust.edu.sa),\n",
    "granting access to some of the world's largest supercomputers. The work has\n",
    "been presented at several conferences and as invited talks\n",
    "\n",
    "  * [11'th International Conference on Scientific Computing and Applications](http://tianyuan.xmu.edu.cn/activities/19-20/ICSCA2019/index.html)\n",
    "\n",
    "  * [International Conference on Computational Science and Engineering](https://cseconf2017.simula.no)\n",
    "\n",
    "  * [I3MS Seminar Series of the Institute for Modeling and Simulation, 6 Nov 2017 RWTH AAchen University](https://www.aices.rwth-aachen.de/en/media-and-seminars/events/mortensen-seminar)\n",
    "\n",
    "  * [Predictive Complex Computational Fluid Dynamics, KAUST, May 2017](https://pccfd.kaust.edu.sa/speaker?si=4)\n",
    "\n",
    "  * [MekIT'17 National Conference on computational Mechanics, Trondheim, May 2017](http://arxiv.org/abs/1708.03188)\n",
    "\n",
    "  * [EuroScipy, Cambridge, August 2015](https://www.euroscipy.org/2015/schedule/presentation/6/)\n",
    "\n",
    "The *spectralDNS* project on github contains several repositories, each representing a smaller part of the overall project. The most important are presented beolw.\n",
    "\n",
    "## spectralDNS"
   ]
  },
  {
   "cell_type": "markdown",
   "metadata": {
    "tags": [
     "popout"
    ]
   },
   "source": [
    "<img src=\"https://raw.githack.com/spectralDNS/spectralutilities/master/figures/strong_scaling_pencil_col.png\" width=\"300\"/>\n",
    "\n",
    "**Strong scaling** of triply periodic Navier-Stokes solver on the Shaheen II supercomputer at KAUST."
   ]
  },
  {
   "cell_type": "markdown",
   "metadata": {},
   "source": [
    "The [spectralDNS](https://github.com/spectralDNS/spectralDNS) repository is home to several different pseudo-spectral Navier-Stokes and MagnetoHydroDynamics solvers. Most solvers are for triply periodic domains. The simplest possible Navier-Stokes solver is described by {% cite Mortensen2016 %}, who show that a highly efficient solver can be created using no more than 100 lines of code, using nothing more than standard\n",
    "tools like *Numpy* and *MPI for Python*. The DNS solver has been tested for a\n",
    "transitional Taylor-Green vortex using a computational box of size $2048^3$. Accuracy is, well spectral, and in benchmark tests on the Shaheen II supercomputer at KAUST it has been found to scale well up to 64,000 cores.\n",
    "A state-of-the-art spectral channel flow solver that is making extensive use of *shenfun*, has been described by {% cite mortensen2017spectral %}. Turbulent flow at $Re_{\\tau}=2000$ is shown in the movie below.\n",
    "\n",
    "<img src=\"https://raw.githack.com/spectralDNS/spectralutilities/master/movies/Re2000_cropped.gif\" width=\"600\" />\n",
    "\n",
    "With colleagues at the Extreme Computing Research Center (ECRC), King Abdullah University of Science and Technology (KAUST), we have been using [spectralDNS](https://github.com/spectralDNS) to investigate time integration of Fourier pseudospectral Direct Numerical Simulations {% cite ketcheson2020 %}. We investigate the use of higher‐order Runge‐Kutta pairs and automatic step size control based on local error estimation. We find that the fifth‐order accurate Runge‐Kutta pair of Bogacki and Shampine gives much greater accuracy at a significantly reduced computational cost.\n",
    "\n",
    "## Shenfun\n",
    "\n",
    "With the [shenfun](https://github.com/spectralDNS/shenfun) Python module\n",
    "{% cite shenfun %} an\n",
    "effort is made towards automating the implementation of the spectral Galerkin\n",
    "method for simple tensor product domains, consisting of non-periodic and\n",
    "periodic directions. The user interface to *shenfun* is intentionally made very\n",
    "similar to [FEniCS](https://fenicsproject.org). Partial Differential Equations\n",
    "are represented through weak variational forms and solved using efficient direct\n",
    "solvers where available. MPI decomposition is achieved through the \n",
    "[mpi4py-fft](https://bitbucket.org/mpi4py/mpi4py-fft) module, and all developed solvers may,\n",
    "with no additional effort, be run on supercomputers using thousands of\n",
    "processors.\n",
    "\n",
    "An introduction to *shenfun* is given in {% cite shenfun %}, on [readthedocs](https://shenfun.readthedocs.io)\n",
    "and the recent paper {% cite mortensen_joss %}. Introduction to *mpi4py-fft*\n",
    "is given [here](https://mpi4py-fft.readthedocs.io/en/latest/) and\n",
    "in {% cite mpi4py-fft_joss jpdc_fft %}. Further documentation is found at \n",
    "\n",
    "[![Documentation](https://readthedocs.org/projects/shenfun/badge/?version=latest)](https://shenfun.readthedocs.io/en/latest/)\n",
    "\n",
    "Try shenfun in the computational cell below. Modify to own liking and run interactively."
   ]
  },
  {
   "cell_type": "code",
   "execution_count": 1,
   "metadata": {},
   "outputs": [
    {
     "data": {
      "image/png": "[encoded data removed]",
      "text/plain": [
       "<Figure size 432x288 with 2 Axes>"
      ]
     },
     "metadata": {
      "needs_background": "light"
     },
     "output_type": "display_data"
    }
   ],
   "source": [
    "from sympy import symbols, cos, sin, pi\n",
    "from shenfun import *\n",
    "import matplotlib.pyplot as plt\n",
    "%matplotlib inline\n",
    "\n",
    "x, y = symbols(\"x,y\")\n",
    "\n",
    "C = Basis(20, 'Chebyshev')\n",
    "F = Basis(24, 'Fourier', dtype='d')\n",
    "T = TensorProductSpace(comm, (C, F))\n",
    "u = project(sin(2*x)*cos(pi*y), T)\n",
    "X = T.local_mesh(True)\n",
    "plt.contourf(X[0], X[1], u.backward())\n",
    "plt.colorbar()\n",
    "plt.show()\n"
   ]
  },
  {
   "cell_type": "markdown",
   "metadata": {},
   "source": [
    " \n",
    "\n",
    "\n",
    "## mpi4py-fft \n",
    "\n",
    "mpi4py-fft is a Python package for computing Fast Fourier Transforms (FFTs).\n",
    "Large arrays are distributed and communications are handled under the hood by\n",
    "MPI for Python (mpi4py). To distribute large arrays we are using a\n",
    "[new and completely generic algorithm](https://arxiv.org/abs/1804.09536)\n",
    "that allows for any index set of a multidimensional array to be distributed. We\n",
    "can distribute just one index (a slab decomposition), two index sets (pencil\n",
    "decomposition) or even more for higher-dimensional arrays.\n",
    "\n",
    "mpi4py-fft comes with its own Python interface to the serial\n",
    "[FFTW](http://www.fftw.org) library. This interface can be used\n",
    "much like [pyfftw](https://hgomersall.github.io/pyFFTW), and even for\n",
    "real-to-real transforms, like discrete cosine or sine transforms. Further documentation is found at\n",
    "\n",
    "[![Documentation](https://readthedocs.org/projects/mpi4py-fft/badge/?version=latest)](https://mpi4py-fft.readthedocs.io/en/latest/)\n",
    "\n",
    "Number of downloads from conda-forge:\n",
    "\n",
    "[![Anaconda-Server Badge](https://anaconda.org/conda-forge/mpi4py-fft/badges/downloads.svg)](https://anaconda.org/conda-forge/mpi4py-fft)\n",
    "\n",
    "\n",
    "\n",
    "## References\n",
    "\n",
    "{% bibliography --cited %}"
   ]
  }
 ],
 "metadata": {
  "celltoolbar": "Tags",
  "kernelspec": {
   "display_name": "Python 3",
   "language": "python",
   "name": "python3"
  },
  "language_info": {
   "codemirror_mode": {
    "name": "ipython",
    "version": 3
   },
   "file_extension": ".py",
   "mimetype": "text/x-python",
   "name": "python",
   "nbconvert_exporter": "python",
   "pygments_lexer": "ipython3",
   "version": "3.7.4"
  }
 },
 "nbformat": 4,
 "nbformat_minor": 2
}
