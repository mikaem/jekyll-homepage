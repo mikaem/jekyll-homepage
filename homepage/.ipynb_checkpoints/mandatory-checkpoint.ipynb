{
 "cells": [
  {
   "cell_type": "markdown",
   "metadata": {},
   "source": [
    "# Mandatory assignments\n",
    "\n",
    "## Mandatory assignment (i)\n",
    "\n",
    "Verify the analytical solutions (3-47), (3-49) and (3-52) in {% cite white06 %}. Experiment with higher order \"CG\" elements (the solution is then higher order continuous piecewise polynomials) and compute the *errornorm*. Report tables of the error vs mesh size (`mesh.hmin()`) and comment on the order of accuracy. See [Analysing the error](../chapter3/poiseuille.ipynb#Analysing-the-error).\n",
    "\n",
    "## Mandatory assignment (ii)\n",
    "\n",
    "Solve the normalized equations for [plane stagnation flow](../chapter3/similarity.ipynb#mjx-eqn-eq:StagnationNonNorm) and [axissymmetric stagnation flow](../chapter3/similarity.ipynb#mjx-eqn-eq:AxiStagnationNonNorm) using both Picard and Newton iterations. Hint: Define a new variable $H = F'$ and solve a coupled system of equations for $H$ and $F$. Start for example like this:\n",
    "\n",
    "```python\n",
    "from dolfin import *\n",
    "L = 10\n",
    "x = IntervalMesh(50, 0, L)\n",
    "Ve = FiniteElement('CG', x.ufl_cell(), 1)\n",
    "V = FunctionSpace(x, Ve)\n",
    "VV = FunctionSpace(x, Ve * Ve)\n",
    "hf = TrialFunction(VV)\n",
    "h, f = split(hf)\n",
    "vh, vf = TestFunctions(VV)\n",
    "```\n",
    "\n",
    "## Mandatory assignment (iii) \n",
    "\n",
    "Assume low Reynolds number and use FEniCS to compute a numerical solution of Stokes flow for a driven cavity. The domain of the cavity is $[0, 1]\\times[0, 1]$ and the dynamic viscosity $\\mu=100$. The domain consists of 4 solid walls, where the top lid ($y=1$ and $ 0 < x < 1$) is moving at speed $\\boldsymbol{u}=(1, 0)$. The remaining 3 walls are not moving. Compute the streamfunction and find the center of the vortex, i.e., the point where the streamfunction goes through a minimum. For the driven cavity the value of the streamfunction can be set to zero on the entire exterior domain.\n",
    "\n",
    "Note that the boundary condition on $\\psi$ follows from the very [definition of the streamfunction](../chapter3/stokes.ipynb#eq:streamfunction2D), where it should be understood that the variable $\\psi$ will only need to be known up to an arbitrary constant. If $\\psi$ is a solution, then $\\psi+C$ gives exactly the same velocity field since the partial derivative of a constant (here $C$) is zero. As such we can put an \"anchor\" on the solution by specifying that $\\psi=0$ at the corner where $x=0, y=0$. It then follows that $\\psi$ will be zero on the entire domain.  Along the left hand border, where $x=0$ and $0 \\leq y \\leq 1$, we have the boundary condition on velocity stating that $u=\\partial \\psi / \\partial y = 0$. Since the gradient of $\\psi$ is 0 along the border it follows that $\\psi=0$ along this border. Similarly, for the top lid $v=-\\partial \\psi / \\partial x=0$, and thus $\\psi$ must be equal to $0$ for the entire top lid. The same procedure applies to the last two borders and consequently $\\psi=0$ for the entire border. Note that the value does not have to be zero, any constant value may be chosen.\n",
    "\n",
    "## Mandatory assignment (iv) \n",
    "\n",
    "Assume low Reynolds number and use FEniCS to compute a numerical solution of Stokes flow creeping past a step (see Fig. 3-37 in {% cite white06 %}. A mesh for the geometry is shown below\n",
    "\n",
    "<img src=\"../images/Backstep_mesh.png\" width=\"400\" height=\"300\" angle=-90 />\n",
    "\n",
    "The height of the step is $0.1L$. The height and width of the rectangular geometry is $0.5L$ and $L$ respectively. Use $\\mathrm{Re}=UL/\\mu = 0.01$ (setting density to unity) as in Fig. 3-37 in {% cite white06 %}. Set the velocity of the top (at $y=0.5L$) to constant $\\boldsymbol{u}=(1, 0)$. Use pseudo-traction for the inlet located at $x=0$ and the outlet located at $x=L$. No-slip for the bottom wall.\n",
    "\n",
    "Create a suitable mesh using for example [Gmsh](http://geuz.org/gmsh). It is also possible to create this mesh directly using [mshr](https://bitbucket.org/fenics-project/mshr).\n"
   ]
  },
  {
   "cell_type": "code",
   "execution_count": null,
   "metadata": {},
   "outputs": [],
   "source": []
  }
 ],
 "metadata": {
  "kernelspec": {
   "display_name": "Python 3",
   "language": "python",
   "name": "python3"
  },
  "language_info": {
   "codemirror_mode": {
    "name": "ipython",
    "version": 3
   },
   "file_extension": ".py",
   "mimetype": "text/x-python",
   "name": "python",
   "nbconvert_exporter": "python",
   "pygments_lexer": "ipython3",
   "version": "3.7.3"
  }
 },
 "nbformat": 4,
 "nbformat_minor": 2
}
